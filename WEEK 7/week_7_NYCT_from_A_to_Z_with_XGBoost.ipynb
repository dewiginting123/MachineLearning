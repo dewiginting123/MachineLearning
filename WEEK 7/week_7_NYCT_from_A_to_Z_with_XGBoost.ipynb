{
  "nbformat": 4,
  "nbformat_minor": 0,
  "metadata": {
    "colab": {
      "name": "week 7_NYCT - from A to Z with XGBoost.ipynb",
      "provenance": [],
      "collapsed_sections": [],
      "authorship_tag": "ABX9TyOFWQGApM2ZFBd296MuWtBT",
      "include_colab_link": true
    },
    "kernelspec": {
      "name": "python3",
      "display_name": "Python 3"
    },
    "language_info": {
      "name": "python"
    }
  },
  "cells": [
    {
      "cell_type": "markdown",
      "metadata": {
        "id": "view-in-github",
        "colab_type": "text"
      },
      "source": [
        "<a href=\"https://colab.research.google.com/github/dewiginting123/MachineLearning/blob/main/WEEK%207/week_7_NYCT_from_A_to_Z_with_XGBoost.ipynb\" target=\"_parent\"><img src=\"https://colab.research.google.com/assets/colab-badge.svg\" alt=\"Open In Colab\"/></a>"
      ]
    },
    {
      "cell_type": "code",
      "execution_count": null,
      "metadata": {
        "id": "zgD1hA6yMGS_"
      },
      "outputs": [],
      "source": [
        "%matplotlib inline\n",
        "import pandas as pd\n",
        "from datetime import datetime\n",
        "import pandas as pd\n",
        "from sklearn.model_selection import train_test_split\n",
        "import xgboost as xgb\n",
        "from sklearn.linear_model import LinearRegression, Ridge,BayesianRidge\n",
        "from sklearn.cluster import MiniBatchKMeans\n",
        "from sklearn.metrics import mean_squared_error\n",
        "from math import radians, cos, sin, asin, sqrt\n",
        "import seaborn as sns\n",
        "import matplotlib\n",
        "import numpy as np\n",
        "import matplotlib.pyplot as plt\n",
        "plt.rcParams['figure.figsize'] = [16, 10]"
      ]
    },
    {
      "cell_type": "code",
      "source": [
        "train = pd.read_csv('../input/new-york-city-taxi-with-osrm/train.csv')\n",
        "test = pd.read_csv('../input/new-york-city-taxi-with-osrm/test.csv')"
      ],
      "metadata": {
        "id": "inOFTMLAMXV-"
      },
      "execution_count": null,
      "outputs": []
    },
    {
      "cell_type": "code",
      "source": [
        "pd.set_option('display.float_format', lambda x: '%.3f' % x)\n",
        "train.head()"
      ],
      "metadata": {
        "id": "sWBoSwKMMa1r"
      },
      "execution_count": null,
      "outputs": []
    },
    {
      "cell_type": "code",
      "source": [
        "pd.set_option('display.float_format', lambda x: '%.3f' % x)\n",
        "train.describe()"
      ],
      "metadata": {
        "id": "dQKuYu3EMfil"
      },
      "execution_count": null,
      "outputs": []
    },
    {
      "cell_type": "code",
      "source": [
        "train.info()"
      ],
      "metadata": {
        "id": "xCZt03SKMieS"
      },
      "execution_count": null,
      "outputs": []
    },
    {
      "cell_type": "code",
      "source": [
        "m = np.mean(train['trip_duration'])\n",
        "s = np.std(train['trip_duration'])\n",
        "train = train[train['trip_duration'] <= m + 2*s]\n",
        "train = train[train['trip_duration'] >= m - 2*s]"
      ],
      "metadata": {
        "id": "87rj7MqgMlQF"
      },
      "execution_count": null,
      "outputs": []
    },
    {
      "cell_type": "code",
      "source": [
        "train = train[train['pickup_longitude'] <= -73.75]\n",
        "train = train[train['pickup_longitude'] >= -74.03]\n",
        "train = train[train['pickup_latitude'] <= 40.85]\n",
        "train = train[train['pickup_latitude'] >= 40.63]\n",
        "train = train[train['dropoff_longitude'] <= -73.75]\n",
        "train = train[train['dropoff_longitude'] >= -74.03]\n",
        "train = train[train['dropoff_latitude'] <= 40.85]\n",
        "train = train[train['dropoff_latitude'] >= 40.63]"
      ],
      "metadata": {
        "id": "WxV7oB1lMrYW"
      },
      "execution_count": null,
      "outputs": []
    },
    {
      "cell_type": "code",
      "source": [
        "train['pickup_datetime'] = pd.to_datetime(train.pickup_datetime)\n",
        "test['pickup_datetime'] = pd.to_datetime(test.pickup_datetime)\n",
        "train.loc[:, 'pickup_date'] = train['pickup_datetime'].dt.date\n",
        "test.loc[:, 'pickup_date'] = test['pickup_datetime'].dt.date\n",
        "train['dropoff_datetime'] = pd.to_datetime(train.dropoff_datetime) #Not in Test"
      ],
      "metadata": {
        "id": "7wDQh_20Mwx0"
      },
      "execution_count": null,
      "outputs": []
    },
    {
      "cell_type": "code",
      "source": [
        "plt.hist(train['trip_duration'].values, bins=100)\n",
        "plt.xlabel('trip_duration')\n",
        "plt.ylabel('number of train records')\n",
        "plt.show()"
      ],
      "metadata": {
        "id": "aQzsigW0Mze9"
      },
      "execution_count": null,
      "outputs": []
    },
    {
      "cell_type": "code",
      "source": [
        "train['log_trip_duration'] = np.log(train['trip_duration'].values + 1)\n",
        "plt.hist(train['log_trip_duration'].values, bins=100)\n",
        "plt.xlabel('log(trip_duration)')\n",
        "plt.ylabel('number of train records')\n",
        "plt.show()\n",
        "sns.distplot(train[\"log_trip_duration\"], bins =100)"
      ],
      "metadata": {
        "id": "1_4vSkgnM7--"
      },
      "execution_count": null,
      "outputs": []
    },
    {
      "cell_type": "code",
      "source": [
        "plt.plot(train.groupby('pickup_date').count()[['id']], 'o-', label='train')\n",
        "plt.plot(test.groupby('pickup_date').count()[['id']], 'o-', label='test')\n",
        "plt.title('Trips over Time.')\n",
        "plt.legend(loc=0)\n",
        "plt.ylabel('Trips')\n",
        "plt.show()"
      ],
      "metadata": {
        "id": "8jfClS3sM-cK"
      },
      "execution_count": null,
      "outputs": []
    },
    {
      "cell_type": "code",
      "source": [
        "import warnings\n",
        "warnings.filterwarnings(\"ignore\")\n",
        "plot_vendor = train.groupby('vendor_id')['trip_duration'].mean()\n",
        "plt.subplots(1,1,figsize=(17,10))\n",
        "plt.ylim(ymin=800)\n",
        "plt.ylim(ymax=840)\n",
        "sns.barplot(plot_vendor.index,plot_vendor.values)\n",
        "plt.title('Time per Vendor')\n",
        "plt.legend(loc=0)\n",
        "plt.ylabel('Time in Seconds')"
      ],
      "metadata": {
        "id": "tDpzEjfENCp_"
      },
      "execution_count": null,
      "outputs": []
    },
    {
      "cell_type": "code",
      "source": [
        "snwflag = train.groupby('store_and_fwd_flag')['trip_duration'].mean()\n",
        "\n",
        "plt.subplots(1,1,figsize=(17,10))\n",
        "plt.ylim(ymin=0)\n",
        "plt.ylim(ymax=1100)\n",
        "plt.title('Time per store_and_fwd_flag')\n",
        "plt.legend(loc=0)\n",
        "plt.ylabel('Time in Seconds')\n",
        "sns.barplot(snwflag.index,snwflag.values)"
      ],
      "metadata": {
        "id": "sA8q1TN8NFdZ"
      },
      "execution_count": null,
      "outputs": []
    },
    {
      "cell_type": "code",
      "source": [
        "pc = train.groupby('passenger_count')['trip_duration'].mean()\n",
        "\n",
        "plt.subplots(1,1,figsize=(17,10))\n",
        "plt.ylim(ymin=0)\n",
        "plt.ylim(ymax=1100)\n",
        "plt.title('Time per store_and_fwd_flag')\n",
        "plt.legend(loc=0)\n",
        "plt.ylabel('Time in Seconds')\n",
        "sns.barplot(pc.index,pc.values)"
      ],
      "metadata": {
        "id": "PgYdjgJrNIsb"
      },
      "execution_count": null,
      "outputs": []
    },
    {
      "cell_type": "code",
      "source": [
        "train.groupby('passenger_count').size()"
      ],
      "metadata": {
        "id": "_cDpY7v2NMJ4"
      },
      "execution_count": null,
      "outputs": []
    },
    {
      "cell_type": "code",
      "source": [
        "test.groupby('passenger_count').size()"
      ],
      "metadata": {
        "id": "w7-ZqO-JNOeg"
      },
      "execution_count": null,
      "outputs": []
    },
    {
      "cell_type": "code",
      "source": [
        "city_long_border = (-74.03, -73.75)\n",
        "city_lat_border = (40.63, 40.85)\n",
        "fig, ax = plt.subplots(ncols=2, sharex=True, sharey=True)\n",
        "ax[0].scatter(train['pickup_longitude'].values[:100000], train['pickup_latitude'].values[:100000],\n",
        "              color='blue', s=1, label='train', alpha=0.1)\n",
        "ax[1].scatter(test['pickup_longitude'].values[:100000], test['pickup_latitude'].values[:100000],\n",
        "              color='green', s=1, label='test', alpha=0.1)\n",
        "fig.suptitle('Train and test area complete overlap.')\n",
        "ax[0].legend(loc=0)\n",
        "ax[0].set_ylabel('latitude')\n",
        "ax[0].set_xlabel('longitude')\n",
        "ax[1].set_xlabel('longitude')\n",
        "ax[1].legend(loc=0)\n",
        "plt.ylim(city_lat_border)\n",
        "plt.xlim(city_long_border)\n",
        "plt.show()"
      ],
      "metadata": {
        "id": "98OOCyg4NQux"
      },
      "execution_count": null,
      "outputs": []
    },
    {
      "cell_type": "code",
      "source": [
        "def haversine_array(lat1, lng1, lat2, lng2):\n",
        "    lat1, lng1, lat2, lng2 = map(np.radians, (lat1, lng1, lat2, lng2))\n",
        "    AVG_EARTH_RADIUS = 6371  # in km\n",
        "    lat = lat2 - lat1\n",
        "    lng = lng2 - lng1\n",
        "    d = np.sin(lat * 0.5) ** 2 + np.cos(lat1) * np.cos(lat2) * np.sin(lng * 0.5) ** 2\n",
        "    h = 2 * AVG_EARTH_RADIUS * np.arcsin(np.sqrt(d))\n",
        "    return h\n",
        "\n",
        "def dummy_manhattan_distance(lat1, lng1, lat2, lng2):\n",
        "    a = haversine_array(lat1, lng1, lat1, lng2)\n",
        "    b = haversine_array(lat1, lng1, lat2, lng1)\n",
        "    return a + b\n",
        "\n",
        "def bearing_array(lat1, lng1, lat2, lng2):\n",
        "    AVG_EARTH_RADIUS = 6371  # in km\n",
        "    lng_delta_rad = np.radians(lng2 - lng1)\n",
        "    lat1, lng1, lat2, lng2 = map(np.radians, (lat1, lng1, lat2, lng2))\n",
        "    y = np.sin(lng_delta_rad) * np.cos(lat2)\n",
        "    x = np.cos(lat1) * np.sin(lat2) - np.sin(lat1) * np.cos(lat2) * np.cos(lng_delta_rad)\n",
        "    return np.degrees(np.arctan2(y, x))"
      ],
      "metadata": {
        "id": "KbeXvPNkNUSm"
      },
      "execution_count": null,
      "outputs": []
    },
    {
      "cell_type": "code",
      "source": [
        "train.loc[:, 'distance_haversine'] = haversine_array(train['pickup_latitude'].values, train['pickup_longitude'].values, train['dropoff_latitude'].values, train['dropoff_longitude'].values)\n",
        "test.loc[:, 'distance_haversine'] = haversine_array(test['pickup_latitude'].values, test['pickup_longitude'].values, test['dropoff_latitude'].values, test['dropoff_longitude'].values)    \n",
        "    \n",
        "train.loc[:, 'distance_dummy_manhattan'] =  dummy_manhattan_distance(train['pickup_latitude'].values, train['pickup_longitude'].values, train['dropoff_latitude'].values, train['dropoff_longitude'].values)\n",
        "test.loc[:, 'distance_dummy_manhattan'] =  dummy_manhattan_distance(test['pickup_latitude'].values, test['pickup_longitude'].values, test['dropoff_latitude'].values, test['dropoff_longitude'].values)\n",
        "\n",
        "train.loc[:, 'direction'] = bearing_array(train['pickup_latitude'].values, train['pickup_longitude'].values, train['dropoff_latitude'].values, train['dropoff_longitude'].values)\n",
        "test.loc[:, 'direction'] = bearing_array(test['pickup_latitude'].values, test['pickup_longitude'].values, test['dropoff_latitude'].values, test['dropoff_longitude'].values)"
      ],
      "metadata": {
        "id": "6IIiJxa2NYlt"
      },
      "execution_count": null,
      "outputs": []
    },
    {
      "cell_type": "code",
      "source": [
        "coords = np.vstack((train[['pickup_latitude', 'pickup_longitude']].values,\n",
        "                    train[['dropoff_latitude', 'dropoff_longitude']].values))"
      ],
      "metadata": {
        "id": "Oux33O15Nczy"
      },
      "execution_count": null,
      "outputs": []
    },
    {
      "cell_type": "code",
      "source": [
        "sample_ind = np.random.permutation(len(coords))[:500000]\n",
        "kmeans = MiniBatchKMeans(n_clusters=100, batch_size=10000).fit(coords[sample_ind])"
      ],
      "metadata": {
        "id": "ciJLfiGjNfev"
      },
      "execution_count": null,
      "outputs": []
    },
    {
      "cell_type": "code",
      "source": [
        "train.loc[:, 'pickup_cluster'] = kmeans.predict(train[['pickup_latitude', 'pickup_longitude']])\n",
        "train.loc[:, 'dropoff_cluster'] = kmeans.predict(train[['dropoff_latitude', 'dropoff_longitude']])\n",
        "test.loc[:, 'pickup_cluster'] = kmeans.predict(test[['pickup_latitude', 'pickup_longitude']])\n",
        "test.loc[:, 'dropoff_cluster'] = kmeans.predict(test[['dropoff_latitude', 'dropoff_longitude']])"
      ],
      "metadata": {
        "id": "BTkt_n77NiGN"
      },
      "execution_count": null,
      "outputs": []
    },
    {
      "cell_type": "code",
      "source": [
        "fig, ax = plt.subplots(ncols=1, nrows=1)\n",
        "ax.scatter(train.pickup_longitude.values[:500000], train.pickup_latitude.values[:500000], s=10, lw=0,\n",
        "           c=train.pickup_cluster[:500000].values, cmap='autumn', alpha=0.2)\n",
        "ax.set_xlim(city_long_border)\n",
        "ax.set_ylim(city_lat_border)\n",
        "ax.set_xlabel('Longitude')\n",
        "ax.set_ylabel('Latitude')\n",
        "plt.show()"
      ],
      "metadata": {
        "id": "wR6vvXt7Nlqp"
      },
      "execution_count": null,
      "outputs": []
    },
    {
      "cell_type": "code",
      "source": [
        "#Extracting Month\n",
        "train['Month'] = train['pickup_datetime'].dt.month\n",
        "test['Month'] = test['pickup_datetime'].dt.month"
      ],
      "metadata": {
        "id": "pHySPiqKNoIR"
      },
      "execution_count": null,
      "outputs": []
    },
    {
      "cell_type": "code",
      "source": [
        "train.groupby('Month').size(),test.groupby('Month').size()"
      ],
      "metadata": {
        "id": "hHK3TcdvNsmQ"
      },
      "execution_count": null,
      "outputs": []
    },
    {
      "cell_type": "code",
      "source": [
        "train['DayofMonth'] = train['pickup_datetime'].dt.day\n",
        "test['DayofMonth'] = test['pickup_datetime'].dt.day\n",
        "len(train.groupby('DayofMonth').size()),len(test.groupby('DayofMonth').size())"
      ],
      "metadata": {
        "id": "WHhQGJwYNuXR"
      },
      "execution_count": null,
      "outputs": []
    },
    {
      "cell_type": "code",
      "source": [
        "train['Hour'] = train['pickup_datetime'].dt.hour\n",
        "test['Hour'] = test['pickup_datetime'].dt.hour\n",
        "len(train.groupby('Hour').size()),len(test.groupby('Hour').size())"
      ],
      "metadata": {
        "id": "8FvDQPwVNxDf"
      },
      "execution_count": null,
      "outputs": []
    },
    {
      "cell_type": "code",
      "source": [
        "train['dayofweek'] = train['pickup_datetime'].dt.dayofweek\n",
        "test['dayofweek'] = test['pickup_datetime'].dt.dayofweek\n",
        "len(train.groupby('dayofweek').size()),len(test.groupby('dayofweek').size())"
      ],
      "metadata": {
        "id": "BP8_IyM6N2BN"
      },
      "execution_count": null,
      "outputs": []
    },
    {
      "cell_type": "code",
      "source": [
        "train.loc[:, 'avg_speed_h'] = 1000 * train['distance_haversine'] / train['trip_duration']\n",
        "train.loc[:, 'avg_speed_m'] = 1000 * train['distance_dummy_manhattan'] / train['trip_duration']\n",
        "fig, ax = plt.subplots(ncols=3, sharey=True)\n",
        "ax[0].plot(train.groupby('Hour').mean()['avg_speed_h'], 'bo-', lw=2, alpha=0.7)\n",
        "ax[1].plot(train.groupby('dayofweek').mean()['avg_speed_h'], 'go-', lw=2, alpha=0.7)\n",
        "ax[2].plot(train.groupby('Month').mean()['avg_speed_h'], 'ro-', lw=2, alpha=0.7)\n",
        "ax[0].set_xlabel('Hour of Day')\n",
        "ax[1].set_xlabel('Day of Week')\n",
        "ax[2].set_xlabel('Month of Year')\n",
        "ax[0].set_ylabel('Average Speed')\n",
        "fig.suptitle('Average Traffic Speed by Date-part')\n",
        "plt.show()"
      ],
      "metadata": {
        "id": "56ueaZb8N4M6"
      },
      "execution_count": null,
      "outputs": []
    },
    {
      "cell_type": "code",
      "source": [
        "train.loc[:, 'pickup_lat_bin'] = np.round(train['pickup_latitude'], 3)\n",
        "train.loc[:, 'pickup_long_bin'] = np.round(train['pickup_longitude'], 3)\n",
        "# Average speed for regions\n",
        "gby_cols = ['pickup_lat_bin', 'pickup_long_bin']\n",
        "coord_speed = train.groupby(gby_cols).mean()[['avg_speed_h']].reset_index()\n",
        "coord_count = train.groupby(gby_cols).count()[['id']].reset_index()\n",
        "coord_stats = pd.merge(coord_speed, coord_count, on=gby_cols)\n",
        "coord_stats = coord_stats[coord_stats['id'] > 100]\n",
        "fig, ax = plt.subplots(ncols=1, nrows=1)\n",
        "ax.scatter(train.pickup_longitude.values[:500000], train.pickup_latitude.values[:500000], color='black', s=1, alpha=0.5)\n",
        "ax.scatter(coord_stats.pickup_long_bin.values, coord_stats.pickup_lat_bin.values, c=coord_stats.avg_speed_h.values,\n",
        "           cmap='RdYlGn', s=20, alpha=0.5, vmin=1, vmax=8)\n",
        "ax.set_xlim(city_long_border)\n",
        "ax.set_ylim(city_lat_border)\n",
        "ax.set_xlabel('Longitude')\n",
        "ax.set_ylabel('Latitude')\n",
        "plt.title('Average speed')\n",
        "plt.show()"
      ],
      "metadata": {
        "id": "0vKK0Jm_N7o-"
      },
      "execution_count": null,
      "outputs": []
    },
    {
      "cell_type": "code",
      "source": [
        "fr1 = pd.read_csv('../input/new-york-city-taxi-with-osrm/fastest_routes_train_part_1.csv', usecols=['id', 'total_distance', 'total_travel_time',  'number_of_steps'])\n",
        "fr2 = pd.read_csv('../input/new-york-city-taxi-with-osrm/fastest_routes_train_part_2.csv', usecols=['id', 'total_distance', 'total_travel_time', 'number_of_steps'])\n",
        "test_street_info = pd.read_csv('../input/new-york-city-taxi-with-osrm/fastest_routes_test.csv',\n",
        "                               usecols=['id', 'total_distance', 'total_travel_time', 'number_of_steps'])\n",
        "train_street_info = pd.concat((fr1, fr2))\n",
        "train = train.merge(train_street_info, how='left', on='id')\n",
        "test = test.merge(test_street_info, how='left', on='id')"
      ],
      "metadata": {
        "id": "uxh_vSxYN_s4"
      },
      "execution_count": null,
      "outputs": []
    },
    {
      "cell_type": "code",
      "source": [
        "train.shape, test.shape"
      ],
      "metadata": {
        "id": "LjxL3Z3YODpa"
      },
      "execution_count": null,
      "outputs": []
    },
    {
      "cell_type": "code",
      "source": [
        "vendor_train = pd.get_dummies(train['vendor_id'], prefix='vi', prefix_sep='_')\n",
        "vendor_test = pd.get_dummies(test['vendor_id'], prefix='vi', prefix_sep='_')\n",
        "passenger_count_train = pd.get_dummies(train['passenger_count'], prefix='pc', prefix_sep='_')\n",
        "passenger_count_test = pd.get_dummies(test['passenger_count'], prefix='pc', prefix_sep='_')\n",
        "store_and_fwd_flag_train = pd.get_dummies(train['store_and_fwd_flag'], prefix='sf', prefix_sep='_')\n",
        "store_and_fwd_flag_test = pd.get_dummies(test['store_and_fwd_flag'], prefix='sf', prefix_sep='_')\n",
        "cluster_pickup_train = pd.get_dummies(train['pickup_cluster'], prefix='p', prefix_sep='_')\n",
        "cluster_pickup_test = pd.get_dummies(test['pickup_cluster'], prefix='p', prefix_sep='_')\n",
        "cluster_dropoff_train = pd.get_dummies(train['dropoff_cluster'], prefix='d', prefix_sep='_')\n",
        "cluster_dropoff_test = pd.get_dummies(test['dropoff_cluster'], prefix='d', prefix_sep='_')\n",
        "\n",
        "month_train = pd.get_dummies(train['Month'], prefix='m', prefix_sep='_')\n",
        "month_test = pd.get_dummies(test['Month'], prefix='m', prefix_sep='_')\n",
        "dom_train = pd.get_dummies(train['DayofMonth'], prefix='dom', prefix_sep='_')\n",
        "dom_test = pd.get_dummies(test['DayofMonth'], prefix='dom', prefix_sep='_')\n",
        "hour_train = pd.get_dummies(train['Hour'], prefix='h', prefix_sep='_')\n",
        "hour_test = pd.get_dummies(test['Hour'], prefix='h', prefix_sep='_')\n",
        "dow_train = pd.get_dummies(train['dayofweek'], prefix='dow', prefix_sep='_')\n",
        "dow_test = pd.get_dummies(test['dayofweek'], prefix='dow', prefix_sep='_')"
      ],
      "metadata": {
        "id": "SAq7aHtpOGbU"
      },
      "execution_count": null,
      "outputs": []
    },
    {
      "cell_type": "code",
      "source": [
        "vendor_train.shape,vendor_test.shape"
      ],
      "metadata": {
        "id": "5isShHw6OLas"
      },
      "execution_count": null,
      "outputs": []
    },
    {
      "cell_type": "code",
      "source": [
        "passenger_count_train.shape,passenger_count_test.shape"
      ],
      "metadata": {
        "id": "PC9_jRYVOPi8"
      },
      "execution_count": null,
      "outputs": []
    },
    {
      "cell_type": "code",
      "source": [
        "store_and_fwd_flag_train.shape,store_and_fwd_flag_test.shape"
      ],
      "metadata": {
        "id": "fqrPF5RhORil"
      },
      "execution_count": null,
      "outputs": []
    },
    {
      "cell_type": "code",
      "source": [
        "cluster_pickup_train.shape,cluster_pickup_test.shape"
      ],
      "metadata": {
        "id": "9TcVDfhbOTum"
      },
      "execution_count": null,
      "outputs": []
    },
    {
      "cell_type": "code",
      "source": [
        "cluster_dropoff_train.shape,cluster_dropoff_test.shape"
      ],
      "metadata": {
        "id": "ni_Mof7tOWdd"
      },
      "execution_count": null,
      "outputs": []
    },
    {
      "cell_type": "code",
      "source": [
        "month_train.shape,month_test.shape"
      ],
      "metadata": {
        "id": "_-vq50JsOYo7"
      },
      "execution_count": null,
      "outputs": []
    },
    {
      "cell_type": "code",
      "source": [
        "dom_train.shape,dom_test.shape"
      ],
      "metadata": {
        "id": "Pui4ga6TOa2F"
      },
      "execution_count": null,
      "outputs": []
    },
    {
      "cell_type": "code",
      "source": [
        "hour_train.shape,hour_test.shape"
      ],
      "metadata": {
        "id": "t3tD7MwlOdOA"
      },
      "execution_count": null,
      "outputs": []
    },
    {
      "cell_type": "code",
      "source": [
        "dow_train.shape,dow_test.shape"
      ],
      "metadata": {
        "id": "F-ILOwTZOffM"
      },
      "execution_count": null,
      "outputs": []
    },
    {
      "cell_type": "code",
      "source": [
        "passenger_count_test = passenger_count_test.drop('pc_9', axis = 1)"
      ],
      "metadata": {
        "id": "YC2H6U6EOhx9"
      },
      "execution_count": null,
      "outputs": []
    },
    {
      "cell_type": "code",
      "source": [
        "train = train.drop(['id','vendor_id','passenger_count','store_and_fwd_flag','Month','DayofMonth','Hour','dayofweek',\n",
        "                   'pickup_longitude','pickup_latitude','dropoff_longitude','dropoff_latitude'],axis = 1)\n",
        "Test_id = test['id']\n",
        "test = test.drop(['id','vendor_id','passenger_count','store_and_fwd_flag','Month','DayofMonth','Hour','dayofweek',\n",
        "                   'pickup_longitude','pickup_latitude','dropoff_longitude','dropoff_latitude'], axis = 1)\n",
        "\n",
        "train = train.drop(['dropoff_datetime','avg_speed_h','avg_speed_m','pickup_lat_bin','pickup_long_bin','trip_duration'], axis = 1)"
      ],
      "metadata": {
        "id": "5n-gWQHZOkGO"
      },
      "execution_count": null,
      "outputs": []
    },
    {
      "cell_type": "code",
      "source": [
        "train.shape,test.shape"
      ],
      "metadata": {
        "id": "KeW86DwXOnoY"
      },
      "execution_count": null,
      "outputs": []
    },
    {
      "cell_type": "code",
      "source": [
        "Train_Master = pd.concat([train,\n",
        "                          vendor_train,\n",
        "                          passenger_count_train,\n",
        "                          store_and_fwd_flag_train,\n",
        "                          cluster_pickup_train,\n",
        "                          cluster_dropoff_train,\n",
        "                         month_train,\n",
        "                         dom_train,\n",
        "                          hour_test,\n",
        "                          dow_train\n",
        "                         ], axis=1)"
      ],
      "metadata": {
        "id": "vA7XnkPYOpj3"
      },
      "execution_count": null,
      "outputs": []
    },
    {
      "cell_type": "code",
      "source": [
        "Test_master = pd.concat([test, \n",
        "                         vendor_test,\n",
        "                         passenger_count_test,\n",
        "                         store_and_fwd_flag_test,\n",
        "                         cluster_pickup_test,\n",
        "                         cluster_dropoff_test,\n",
        "                         month_test,\n",
        "                         dom_test,\n",
        "                          hour_test,\n",
        "                          dow_test], axis=1)"
      ],
      "metadata": {
        "id": "LrHS4FsaOsaH"
      },
      "execution_count": null,
      "outputs": []
    },
    {
      "cell_type": "code",
      "source": [
        "Train_Master.shape,Test_master.shape"
      ],
      "metadata": {
        "id": "81pjZlukOv2D"
      },
      "execution_count": null,
      "outputs": []
    },
    {
      "cell_type": "code",
      "source": [
        "Train_Master = Train_Master.drop(['pickup_datetime','pickup_date'],axis = 1)\n",
        "Test_master = Test_master.drop(['pickup_datetime','pickup_date'],axis = 1)"
      ],
      "metadata": {
        "id": "9efIFtDpOyDG"
      },
      "execution_count": null,
      "outputs": []
    },
    {
      "cell_type": "code",
      "source": [
        "Train_Master.shape,Test_master.shape"
      ],
      "metadata": {
        "id": "bSZJHFH-O0mw"
      },
      "execution_count": null,
      "outputs": []
    },
    {
      "cell_type": "code",
      "source": [
        "Train, Test = train_test_split(Train_Master[0:100000], test_size = 0.2)"
      ],
      "metadata": {
        "id": "Q_rEhHu3O29V"
      },
      "execution_count": null,
      "outputs": []
    },
    {
      "cell_type": "code",
      "source": [
        "X_train = Train.drop(['log_trip_duration'], axis=1)\n",
        "Y_train = Train[\"log_trip_duration\"]\n",
        "X_test = Test.drop(['log_trip_duration'], axis=1)\n",
        "Y_test = Test[\"log_trip_duration\"]\n",
        "\n",
        "Y_test = Y_test.reset_index().drop('index',axis = 1)\n",
        "Y_train = Y_train.reset_index().drop('index',axis = 1)"
      ],
      "metadata": {
        "id": "7P3iNn4jO5ws"
      },
      "execution_count": null,
      "outputs": []
    },
    {
      "cell_type": "code",
      "source": [
        "dtrain = xgb.DMatrix(X_train, label=Y_train)\n",
        "dvalid = xgb.DMatrix(X_test, label=Y_test)\n",
        "dtest = xgb.DMatrix(Test_master)\n",
        "watchlist = [(dtrain, 'train'), (dvalid, 'valid')]"
      ],
      "metadata": {
        "id": "LTRjr9HYO8IO"
      },
      "execution_count": null,
      "outputs": []
    },
    {
      "cell_type": "code",
      "source": [
        "#md = [6]\n",
        "#lr = [0.1,0.3]\n",
        "#mcw = [20,25,30]\n",
        "#for m in md:\n",
        "#    for l in lr:\n",
        "#        for n in mcw:\n",
        "#            t0 = datetime.now()\n",
        "#            xgb_pars = {'min_child_weight': mcw, 'eta': lr, 'colsample_bytree': 0.9, \n",
        "#                        'max_depth': md,\n",
        "#            'subsample': 0.9, 'lambda': 1., 'nthread': -1, 'booster' : 'gbtree', 'silent': 1,\n",
        "#            'eval_metric': 'rmse', 'objective': 'reg:linear'}\n",
        "#            model = xgb.train(xgb_pars, dtrain, 50, watchlist, early_stopping_rounds=10,\n",
        "#                  maximize=False, verbose_eval=1)"
      ],
      "metadata": {
        "id": "unauazR1O-Wb"
      },
      "execution_count": null,
      "outputs": []
    },
    {
      "cell_type": "code",
      "source": [
        "xgb_pars = {'min_child_weight': 1, 'eta': 0.5, 'colsample_bytree': 0.9, \n",
        "            'max_depth': 6,\n",
        "'subsample': 0.9, 'lambda': 1., 'nthread': -1, 'booster' : 'gbtree', 'silent': 1,\n",
        "'eval_metric': 'rmse', 'objective': 'reg:linear'}\n",
        "model = xgb.train(xgb_pars, dtrain, 10, watchlist, early_stopping_rounds=2,\n",
        "      maximize=False, verbose_eval=1)\n",
        "print('Modeling RMSLE %.5f' % model.best_score)"
      ],
      "metadata": {
        "id": "sLdwBMcAPCru"
      },
      "execution_count": null,
      "outputs": []
    },
    {
      "cell_type": "code",
      "source": [
        "xgb.plot_importance(model, max_num_features=28, height=0.7)"
      ],
      "metadata": {
        "id": "7GfDAe_hPFVf"
      },
      "execution_count": null,
      "outputs": []
    },
    {
      "cell_type": "code",
      "source": [
        "pred = model.predict(dtest)\n",
        "pred = np.exp(pred) - 1"
      ],
      "metadata": {
        "id": "KzO5LY2YPKLq"
      },
      "execution_count": null,
      "outputs": []
    },
    {
      "cell_type": "code",
      "source": [
        "submission = pd.concat([Test_id, pd.DataFrame(pred)], axis=1)\n",
        "submission.columns = ['id','trip_duration']\n",
        "submission['trip_duration'] = submission.apply(lambda x : 1 if (x['trip_duration'] <= 0) else x['trip_duration'], axis = 1)\n",
        "submission.to_csv(\"submission.csv\", index=False)"
      ],
      "metadata": {
        "id": "N3d6FbJYPMEy"
      },
      "execution_count": null,
      "outputs": []
    }
  ]
}